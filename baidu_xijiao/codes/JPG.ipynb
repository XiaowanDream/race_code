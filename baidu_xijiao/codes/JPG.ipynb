{
 "cells": [
  {
   "cell_type": "code",
   "execution_count": 1,
   "metadata": {},
   "outputs": [],
   "source": [
    "import tensorflow as tf\n",
    "import os"
   ]
  },
  {
   "cell_type": "code",
   "execution_count": 7,
   "metadata": {},
   "outputs": [
    {
     "name": "stdout",
     "output_type": "stream",
     "text": [
      "ERROR! Session/line number was not unique in database. History logging moved to new session 297\n"
     ]
    }
   ],
   "source": [
    "filename_queue = tf.train.string_input_producer(tf.train.match_filenames_once(\"./train/*.jpg\"))\n",
    "#filename_queue = tf.train.string_input_producer(os.listdir('./train/'))"
   ]
  },
  {
   "cell_type": "code",
   "execution_count": 8,
   "metadata": {
    "collapsed": true
   },
   "outputs": [],
   "source": [
    "image_reader = tf.WholeFileReader()"
   ]
  },
  {
   "cell_type": "code",
   "execution_count": 9,
   "metadata": {
    "collapsed": true
   },
   "outputs": [],
   "source": [
    "_, image_file = image_reader.read(filename_queue)"
   ]
  },
  {
   "cell_type": "code",
   "execution_count": 10,
   "metadata": {
    "collapsed": true
   },
   "outputs": [],
   "source": [
    "image = tf.image.decode_jpeg(image_file)"
   ]
  },
  {
   "cell_type": "code",
   "execution_count": 11,
   "metadata": {
    "scrolled": true
   },
   "outputs": [
    {
     "name": "stdout",
     "output_type": "stream",
     "text": [
      "[array([[[ 26,  28,  25],\n",
      "        [ 26,  28,  25],\n",
      "        [ 27,  29,  26],\n",
      "        ..., \n",
      "        [232, 232, 230],\n",
      "        [232, 232, 230],\n",
      "        [232, 232, 230]],\n",
      "\n",
      "       [[ 26,  28,  25],\n",
      "        [ 26,  28,  25],\n",
      "        [ 27,  29,  26],\n",
      "        ..., \n",
      "        [232, 232, 230],\n",
      "        [232, 232, 230],\n",
      "        [232, 232, 230]],\n",
      "\n",
      "       [[ 26,  28,  25],\n",
      "        [ 27,  29,  26],\n",
      "        [ 27,  29,  26],\n",
      "        ..., \n",
      "        [232, 232, 230],\n",
      "        [232, 232, 230],\n",
      "        [232, 232, 230]],\n",
      "\n",
      "       ..., \n",
      "       [[166, 171, 115],\n",
      "        [156, 161, 103],\n",
      "        [150, 158,  98],\n",
      "        ..., \n",
      "        [ 84, 106,  34],\n",
      "        [ 79, 101,  29],\n",
      "        [ 92, 114,  42]],\n",
      "\n",
      "       [[162, 168, 108],\n",
      "        [162, 168, 106],\n",
      "        [167, 176, 111],\n",
      "        ..., \n",
      "        [ 81, 101,  29],\n",
      "        [ 77,  98,  23],\n",
      "        [108, 129,  54]],\n",
      "\n",
      "       [[169, 175, 111],\n",
      "        [174, 180, 116],\n",
      "        [181, 190, 123],\n",
      "        ..., \n",
      "        [ 87, 108,  33],\n",
      "        [ 77,  98,  21],\n",
      "        [122, 143,  66]]], dtype=uint8)]\n",
      "[array([[[63, 63, 63],\n",
      "        [34, 34, 34],\n",
      "        [41, 41, 41],\n",
      "        ..., \n",
      "        [38, 38, 38],\n",
      "        [38, 38, 38],\n",
      "        [37, 37, 37]],\n",
      "\n",
      "       [[35, 35, 35],\n",
      "        [ 5,  5,  5],\n",
      "        [11, 11, 11],\n",
      "        ..., \n",
      "        [ 6,  6,  6],\n",
      "        [ 6,  6,  6],\n",
      "        [ 5,  5,  5]],\n",
      "\n",
      "       [[39, 39, 39],\n",
      "        [ 9,  9,  9],\n",
      "        [13, 13, 13],\n",
      "        ..., \n",
      "        [11, 11, 11],\n",
      "        [11, 11, 11],\n",
      "        [11, 11, 11]],\n",
      "\n",
      "       ..., \n",
      "       [[38, 38, 38],\n",
      "        [ 7,  7,  7],\n",
      "        [12, 12, 12],\n",
      "        ..., \n",
      "        [ 8, 10,  9],\n",
      "        [ 8, 10,  9],\n",
      "        [ 9, 11, 10]],\n",
      "\n",
      "       [[38, 38, 38],\n",
      "        [ 7,  7,  7],\n",
      "        [12, 12, 12],\n",
      "        ..., \n",
      "        [ 9,  9,  9],\n",
      "        [ 9,  9,  9],\n",
      "        [ 9,  9,  9]],\n",
      "\n",
      "       [[38, 38, 38],\n",
      "        [ 7,  7,  7],\n",
      "        [13, 13, 13],\n",
      "        ..., \n",
      "        [ 9,  9,  9],\n",
      "        [ 9,  9,  9],\n",
      "        [ 9,  9,  9]]], dtype=uint8)]\n",
      "[array([[[ 35,  34,  29],\n",
      "        [ 35,  32,  25],\n",
      "        [ 34,  30,  21],\n",
      "        ..., \n",
      "        [197, 189, 168],\n",
      "        [171, 160, 140],\n",
      "        [131, 116,  95]],\n",
      "\n",
      "       [[ 37,  34,  27],\n",
      "        [ 36,  33,  26],\n",
      "        [ 36,  32,  23],\n",
      "        ..., \n",
      "        [189, 181, 160],\n",
      "        [163, 152, 132],\n",
      "        [128, 113,  94]],\n",
      "\n",
      "       [[ 42,  39,  30],\n",
      "        [ 39,  35,  26],\n",
      "        [ 38,  31,  21],\n",
      "        ..., \n",
      "        [173, 165, 144],\n",
      "        [146, 133, 114],\n",
      "        [106,  93,  74]],\n",
      "\n",
      "       ..., \n",
      "       [[170, 163, 153],\n",
      "        [171, 164, 154],\n",
      "        [173, 166, 156],\n",
      "        ..., \n",
      "        [161, 145, 130],\n",
      "        [161, 143, 129],\n",
      "        [159, 141, 127]],\n",
      "\n",
      "       [[171, 164, 154],\n",
      "        [172, 165, 155],\n",
      "        [174, 167, 157],\n",
      "        ..., \n",
      "        [159, 146, 130],\n",
      "        [158, 145, 129],\n",
      "        [156, 143, 127]],\n",
      "\n",
      "       [[171, 164, 154],\n",
      "        [172, 165, 155],\n",
      "        [174, 167, 157],\n",
      "        ..., \n",
      "        [159, 146, 130],\n",
      "        [158, 145, 129],\n",
      "        [156, 143, 127]]], dtype=uint8)]\n",
      "[array([[[ 32,  41,  36],\n",
      "        [ 20,  29,  24],\n",
      "        [ 18,  27,  22],\n",
      "        ..., \n",
      "        [161, 196, 228],\n",
      "        [162, 197, 229],\n",
      "        [163, 196, 229]],\n",
      "\n",
      "       [[ 34,  44,  36],\n",
      "        [ 18,  28,  20],\n",
      "        [ 17,  27,  19],\n",
      "        ..., \n",
      "        [160, 193, 226],\n",
      "        [163, 196, 229],\n",
      "        [164, 197, 228]],\n",
      "\n",
      "       [[ 33,  43,  35],\n",
      "        [ 12,  22,  14],\n",
      "        [ 11,  21,  13],\n",
      "        ..., \n",
      "        [158, 189, 220],\n",
      "        [161, 192, 223],\n",
      "        [164, 195, 224]],\n",
      "\n",
      "       ..., \n",
      "       [[ 84, 102,  78],\n",
      "        [ 93, 111,  87],\n",
      "        [105, 123,  99],\n",
      "        ..., \n",
      "        [ 29,  52,  26],\n",
      "        [ 30,  53,  27],\n",
      "        [ 31,  54,  28]],\n",
      "\n",
      "       [[ 89, 107,  83],\n",
      "        [ 91, 109,  85],\n",
      "        [ 77,  95,  71],\n",
      "        ..., \n",
      "        [ 38,  61,  35],\n",
      "        [ 39,  62,  36],\n",
      "        [ 43,  66,  40]],\n",
      "\n",
      "       [[ 92, 110,  86],\n",
      "        [ 88, 106,  82],\n",
      "        [ 59,  77,  53],\n",
      "        ..., \n",
      "        [ 47,  70,  44],\n",
      "        [ 51,  74,  48],\n",
      "        [ 57,  80,  54]]], dtype=uint8)]\n",
      "[array([[[195, 208, 217],\n",
      "        [189, 202, 211],\n",
      "        [181, 194, 203],\n",
      "        ..., \n",
      "        [101, 121, 128],\n",
      "        [102, 122, 129],\n",
      "        [103, 123, 130]],\n",
      "\n",
      "       [[194, 207, 216],\n",
      "        [188, 201, 210],\n",
      "        [180, 193, 202],\n",
      "        ..., \n",
      "        [102, 122, 129],\n",
      "        [103, 123, 130],\n",
      "        [104, 124, 131]],\n",
      "\n",
      "       [[192, 205, 214],\n",
      "        [186, 199, 208],\n",
      "        [178, 191, 200],\n",
      "        ..., \n",
      "        [103, 123, 130],\n",
      "        [104, 124, 131],\n",
      "        [104, 124, 131]],\n",
      "\n",
      "       ..., \n",
      "       [[ 55,  74,  89],\n",
      "        [ 55,  74,  89],\n",
      "        [ 55,  74,  89],\n",
      "        ..., \n",
      "        [ 77,  93, 106],\n",
      "        [ 77,  93, 106],\n",
      "        [ 77,  93, 106]],\n",
      "\n",
      "       [[ 55,  74,  89],\n",
      "        [ 55,  74,  89],\n",
      "        [ 55,  74,  89],\n",
      "        ..., \n",
      "        [ 76,  92, 105],\n",
      "        [ 76,  92, 105],\n",
      "        [ 76,  92, 105]],\n",
      "\n",
      "       [[ 55,  74,  89],\n",
      "        [ 55,  74,  89],\n",
      "        [ 55,  74,  89],\n",
      "        ..., \n",
      "        [ 75,  91, 104],\n",
      "        [ 75,  91, 104],\n",
      "        [ 75,  91, 104]]], dtype=uint8)]\n"
     ]
    }
   ],
   "source": [
    "with tf.Session() as sess:\n",
    "    # Required to get the filename matching to run.\n",
    "    tf.global_variables_initializer().run()\n",
    "    tf.local_variables_initializer().run()\n",
    "    # Coordinate the loading of image files.\n",
    "    coord = tf.train.Coordinator()\n",
    "    threads = tf.train.start_queue_runners(coord=coord)\n",
    "\n",
    "    # Get an image tensor and print its value.\n",
    "    for i in range(5):\n",
    "        image_tensor = sess.run([image])\n",
    "        print(image_tensor)\n",
    "\n",
    "    # Finish off the filename queue coordinator.\n",
    "    coord.request_stop()\n",
    "    coord.join(threads)"
   ]
  },
  {
   "cell_type": "markdown",
   "metadata": {
    "collapsed": true
   },
   "source": [
    "上述代码读取单个文件是成功的,但是读取多个文件会出现错误。"
   ]
  },
  {
   "cell_type": "code",
   "execution_count": 12,
   "metadata": {},
   "outputs": [
    {
     "name": "stdout",
     "output_type": "stream",
     "text": [
      "1670415,4167450264.jpg\n",
      "1704423,3803410313.jpg\n",
      "1941723,3196569066.jpg\n",
      "216384,2908428553.jpg\n",
      "4721801,79314512.jpg\n"
     ]
    }
   ],
   "source": [
    "import os\n",
    "files = os.listdir('./train/')\n",
    "for file in files:\n",
    "    print(file)"
   ]
  },
  {
   "cell_type": "markdown",
   "metadata": {},
   "source": [
    "将图片转化为TFRecord文件"
   ]
  },
  {
   "cell_type": "code",
   "execution_count": 16,
   "metadata": {},
   "outputs": [],
   "source": [
    "import os \n",
    "import tensorflow as tf \n",
    "import matplotlib.pyplot as plt \n",
    "import numpy as np"
   ]
  },
  {
   "cell_type": "code",
   "execution_count": null,
   "metadata": {
    "collapsed": true
   },
   "outputs": [],
   "source": [
    "cwd='D:\\Python\\data\\dog\\\\' \n",
    "classes={'husky','chihuahua'} #人为 设定 2 类\n",
    "writer= tf.python_io.TFRecordWriter(\"dog_train.tfrecords\") #要生成的文件"
   ]
  }
 ],
 "metadata": {
  "kernelspec": {
   "display_name": "Python 3",
   "language": "python",
   "name": "python3"
  },
  "language_info": {
   "codemirror_mode": {
    "name": "ipython",
    "version": 3
   },
   "file_extension": ".py",
   "mimetype": "text/x-python",
   "name": "python",
   "nbconvert_exporter": "python",
   "pygments_lexer": "ipython3",
   "version": "3.5.3"
  }
 },
 "nbformat": 4,
 "nbformat_minor": 2
}
